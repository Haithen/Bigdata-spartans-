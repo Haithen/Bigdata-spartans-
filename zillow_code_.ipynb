{
  "nbformat": 4,
  "nbformat_minor": 0,
  "metadata": {
    "colab": {
      "provenance": []
    },
    "kernelspec": {
      "name": "python3",
      "display_name": "Python 3"
    },
    "language_info": {
      "name": "python"
    }
  },
  "cells": [
    {
      "cell_type": "code",
      "execution_count": null,
      "metadata": {
        "id": "MChsOlWuPOdd"
      },
      "outputs": [],
      "source": [
        "import numpy as np\n",
        "import pandas as pd\n",
        "import xgboost as xgb\n",
        "from sklearn.preprocessing import LabelEncoder\n",
        "import lightgbm as lgb\n",
        "import gc\n",
        "from sklearn.linear_model import LinearRegression\n",
        "import random\n",
        "import datetime as dt\n",
        "\n",
        "# Model weights\n",
        "XGB_WEIGHT = 0.6000\n",
        "BASELINE_WEIGHT = 0.0000\n",
        "OLS_WEIGHT = 0.0600\n",
        "XGB1_WEIGHT = 0.8000\n",
        "BASELINE_PRED = 0.0115\n",
        "\n",
        "def read_data():\n",
        "    print(\"\\nReading data from disk ...\")\n",
        "    data = pd.read_csv('input.csv')\n",
        "    prop = data[data.columns.difference(['logerror', 'transactiondate'])]\n",
        "    train = data[['parcelid', 'logerror', 'transactiondate']]\n",
        "    return prop, train\n",
        "\n",
        "def process_data_for_lgbm(prop, train):\n",
        "    # your implementation here\n",
        "    pass\n",
        "\n",
        "def lgbm_pred(d_train, train_columns):\n",
        "    # your implementation here\n",
        "    pass\n",
        "\n",
        "prop, train = read_data()\n",
        "d_train, train_columns = process_data_for_lgbm(prop, train)\n",
        "\n",
        "# Your missing xgb_params, dtrain, num_boost_rounds, dtest here\n",
        "\n",
        "print(\"\\nTraining 2nd XGBoost ...\")\n",
        "# model = xgb.train(dict(xgb_params, silent=1), dtrain, num_boost_round=num_boost_rounds)\n",
        "\n",
        "print(\"\\nPredicting with 2nd XGBoost ...\")\n",
        "# xgb_pred2 = model.predict(dtest)\n",
        "\n",
        "print(\"\\nSecond XGBoost predictions:\")\n",
        "# print(pd.DataFrame(xgb_pred2).head())\n",
        "\n",
        "# Combine XGBoost predictions\n",
        "# xgb_pred = XGB1_WEIGHT*xgb_pred1 + (1-XGB1_WEIGHT)*xgb_pred2\n",
        "\n",
        "print(\"\\nCombined XGBoost predictions:\")\n",
        "# print(pd.DataFrame(xgb_pred).head())\n",
        "\n",
        "del prop, train\n",
        "gc.collect()\n",
        "\n",
        "# Rest of your code from \"Processing data for OLS ...\" here\n"
      ]
    }
  ]
}